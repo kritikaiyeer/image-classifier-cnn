{
  "nbformat": 4,
  "nbformat_minor": 0,
  "metadata": {
    "colab": {
      "name": "DogORCat.ipynb",
      "provenance": [],
      "authorship_tag": "ABX9TyPCOnZ/mefo04y7otXxTRHw",
      "include_colab_link": true
    },
    "kernelspec": {
      "name": "python3",
      "display_name": "Python 3"
    },
    "accelerator": "GPU"
  },
  "cells": [
    {
      "cell_type": "markdown",
      "metadata": {
        "id": "view-in-github",
        "colab_type": "text"
      },
      "source": [
        "<a href=\"https://colab.research.google.com/github/kritikaiyeer/image-classifier-cnn/blob/master/DogORCat.ipynb\" target=\"_parent\"><img src=\"https://colab.research.google.com/assets/colab-badge.svg\" alt=\"Open In Colab\"/></a>"
      ]
    },
    {
      "cell_type": "code",
      "metadata": {
        "id": "RiLZS8HfUQ2r",
        "colab_type": "code",
        "colab": {
          "base_uri": "https://localhost:8080/",
          "height": 185
        },
        "outputId": "107551e4-95db-45a3-cd41-28a48af0a4f0"
      },
      "source": [
        "import os\n",
        "os.environ['KAGGLE_USERNAME'] =\"krithikaiyer\" #username\n",
        "os.environ['KAGGLE_KEY'] = \"be5107dc1ef5a94cb5855ec93dfa070b\" #API Key\n",
        "!kaggle competitions download -c dogs-vs-cats #api copied from kaggle"
      ],
      "execution_count": 6,
      "outputs": [
        {
          "output_type": "stream",
          "text": [
            "Warning: Looks like you're using an outdated API Version, please consider updating (server 1.5.6 / client 1.5.4)\n",
            "Downloading sampleSubmission.csv to /content\n",
            "  0% 0.00/86.8k [00:00<?, ?B/s]\n",
            "100% 86.8k/86.8k [00:00<00:00, 26.6MB/s]\n",
            "Downloading train.zip to /content\n",
            " 99% 537M/543M [00:13<00:00, 47.5MB/s]\n",
            "100% 543M/543M [00:13<00:00, 42.3MB/s]\n",
            "Downloading test1.zip to /content\n",
            " 98% 265M/271M [00:03<00:00, 44.8MB/s]\n",
            "100% 271M/271M [00:03<00:00, 76.2MB/s]\n"
          ],
          "name": "stdout"
        }
      ]
    },
    {
      "cell_type": "code",
      "metadata": {
        "id": "E6t8kqY6YgPr",
        "colab_type": "code",
        "colab": {
          "base_uri": "https://localhost:8080/",
          "height": 34
        },
        "outputId": "59ad7d4e-813d-45d0-b668-d7412be34b77"
      },
      "source": [
        "#Upload data\n",
        "from zipfile import ZipFile\n",
        "\n",
        "file_name = \"/content/train.zip\"\n",
        "\n",
        "with ZipFile(file_name, 'r') as zip:\n",
        "  zip.extractall()\n",
        "  print('done')"
      ],
      "execution_count": 7,
      "outputs": [
        {
          "output_type": "stream",
          "text": [
            "done\n"
          ],
          "name": "stdout"
        }
      ]
    },
    {
      "cell_type": "code",
      "metadata": {
        "id": "1oY7Ijn9ZHuW",
        "colab_type": "code",
        "colab": {
          "base_uri": "https://localhost:8080/",
          "height": 34
        },
        "outputId": "d0c5d8b2-fada-4ee2-fcf3-8051e819708a"
      },
      "source": [
        " data_dir_list = os.listdir('/content/train')\n",
        " #print(data_dir_list)\n",
        "\n",
        " path, dirs, files = next(os.walk(\"/content/train\"))\n",
        " file_count = len(files)\n",
        " print(file_count)\n",
        "\n",
        " original_dataset_dir = '/content/train'\n",
        " base_dir = '/content/cats_and_dogs_small'\n",
        " os.mkdir(base_dir)"
      ],
      "execution_count": 8,
      "outputs": [
        {
          "output_type": "stream",
          "text": [
            "25000\n"
          ],
          "name": "stdout"
        }
      ]
    },
    {
      "cell_type": "code",
      "metadata": {
        "id": "S0LCbtGJbF9k",
        "colab_type": "code",
        "colab": {}
      },
      "source": [
        "#Create Seperate folder for classifying Images\n",
        "\n",
        "train_dir = os.path.join(base_dir, 'train')\n",
        "os.mkdir(train_dir)\n",
        "\n",
        "validation_dir = os.path.join(base_dir, 'validation')\n",
        "os.mkdir(validation_dir)\n",
        "\n",
        "test_dir = os.path.join(base_dir, 'test')\n",
        "os.mkdir(test_dir)\n",
        "\n",
        "train_cats_dir = os.path.join(train_dir, 'cats')\n",
        "os.mkdir(train_cats_dir)\n",
        "\n",
        "train_dogs_dir = os.path.join(train_dir, 'dogs')\n",
        "os.mkdir(train_dogs_dir)\n",
        "\n",
        "validation_cats_dir = os.path.join(validation_dir, 'cats')\n",
        "os.mkdir(validation_cats_dir)\n",
        "\n",
        "validation_dogs_dir = os.path.join(validation_dir, 'dogs')\n",
        "os.mkdir(validation_dogs_dir)\n",
        "\n",
        "test_cats_dir = os.path.join(test_dir, 'cats')\n",
        "os.mkdir(test_cats_dir)\n",
        "\n",
        "test_dogs_dir = os.path.join(test_dir, 'dogs')\n",
        "os.mkdir(test_dogs_dir)\n",
        "\n",
        "\n"
      ],
      "execution_count": 9,
      "outputs": []
    },
    {
      "cell_type": "code",
      "metadata": {
        "id": "3mxUOF3TgYQU",
        "colab_type": "code",
        "colab": {}
      },
      "source": [
        "import shutil\n",
        "\n",
        "fnames = ['cat.{}.jpg'.format(i) for i in range(1000)]\n",
        "for fname in fnames:\n",
        "  src = os.path.join(original_dataset_dir, fname)\n",
        "  dst = os.path.join(train_cats_dir, fname)\n",
        "  shutil.copyfile(src, dst)\n",
        "\n",
        "fnames = ['cat.{}.jpg'.format(i) for i in range(1000, 1500)]\n",
        "for fname in fnames:\n",
        "  src = os.path.join(original_dataset_dir, fname)\n",
        "  dst = os.path.join(validation_cats_dir, fname)\n",
        "  shutil.copyfile(src, dst)\n",
        "\n",
        "fnames = ['cat.{}.jpg'.format(i) for i in range(1500, 2000)]\n",
        "for fname in fnames:\n",
        "  src = os.path.join(original_dataset_dir, fname)\n",
        "  dst = os.path.join(test_cats_dir, fname)\n",
        "  shutil.copyfile(src, dst)\n",
        "\n",
        "fnames = ['dog.{}.jpg'.format(i) for i in range(1000)]\n",
        "for fname in fnames:\n",
        "  src = os.path.join(original_dataset_dir, fname)\n",
        "  dst = os.path.join(train_dogs_dir, fname)\n",
        "  shutil.copyfile(src, dst)\n",
        "\n",
        "fnames = ['dog.{}.jpg'.format(i) for i in range(1000, 1500)]\n",
        "for fname in fnames:\n",
        "  src = os.path.join(original_dataset_dir, fname)\n",
        "  dst = os.path.join(validation_dogs_dir, fname)\n",
        "  shutil.copyfile(src, dst)\n",
        "\n",
        "fnames = ['dog.{}.jpg'.format(i) for i in range(1500, 2000)]\n",
        "for fname in fnames:\n",
        "  src = os.path.join(original_dataset_dir, fname)\n",
        "  dst = os.path.join(test_dogs_dir, fname)\n",
        "  shutil.copyfile(src, dst)\n",
        "\n",
        "\n"
      ],
      "execution_count": 10,
      "outputs": []
    },
    {
      "cell_type": "code",
      "metadata": {
        "id": "n1jkSY8kmI0r",
        "colab_type": "code",
        "colab": {
          "base_uri": "https://localhost:8080/",
          "height": 118
        },
        "outputId": "2adb2277-fd20-42c1-c6fd-10019f5410fb"
      },
      "source": [
        "print('total training cat images', len(os.listdir(train_cats_dir)))\n",
        "print('total validation cat images', len(os.listdir(validation_cats_dir)))\n",
        "print('total testing cat images', len(os.listdir(test_cats_dir)))\n",
        "\n",
        "print('total training dog images', len(os.listdir(train_dogs_dir)))\n",
        "print('total validation dog images', len(os.listdir(validation_dogs_dir)))\n",
        "print('total testing dog images', len(os.listdir(test_dogs_dir)))"
      ],
      "execution_count": 11,
      "outputs": [
        {
          "output_type": "stream",
          "text": [
            "total training cat images 1000\n",
            "total validation cat images 500\n",
            "total testing cat images 500\n",
            "total training dog images 1000\n",
            "total validation dog images 500\n",
            "total testing dog images 500\n"
          ],
          "name": "stdout"
        }
      ]
    },
    {
      "cell_type": "code",
      "metadata": {
        "id": "3uXex5EJm8nC",
        "colab_type": "code",
        "colab": {
          "base_uri": "https://localhost:8080/",
          "height": 521
        },
        "outputId": "f9861a32-335f-4457-fd0a-c04ea7b14403"
      },
      "source": [
        "from keras import  layers\n",
        "from keras import  models\n",
        "\n",
        "#Create Model\n",
        "model = models.Sequential()\n",
        "\n",
        "#Add Layers\n",
        "model.add(layers.Conv2D(32, (3,3),activation='relu',input_shape=(150,150,3)))\n",
        "model.add(layers.MaxPooling2D(2,2))\n",
        "model.add(layers.Conv2D(64, (3, 3), activation='relu'))\n",
        "model.add(layers.MaxPooling2D(2,2))\n",
        "model.add(layers.Conv2D(128, (3, 3), activation='relu'))\n",
        "model.add(layers.MaxPooling2D(2,2))\n",
        "model.add(layers.Conv2D(128, (3, 3), activation='relu'))\n",
        "model.add(layers.MaxPooling2D(2,2))\n",
        "model.add(layers.Flatten())\n",
        "model.add(layers.Dense(512, activation='relu'))\n",
        "model.add(layers.Dense(1, activation='sigmoid'))\n",
        "model.summary()\n",
        "\n",
        "\n",
        "\n",
        "\n"
      ],
      "execution_count": 12,
      "outputs": [
        {
          "output_type": "stream",
          "text": [
            "Model: \"sequential_1\"\n",
            "_________________________________________________________________\n",
            "Layer (type)                 Output Shape              Param #   \n",
            "=================================================================\n",
            "conv2d_1 (Conv2D)            (None, 148, 148, 32)      896       \n",
            "_________________________________________________________________\n",
            "max_pooling2d_1 (MaxPooling2 (None, 74, 74, 32)        0         \n",
            "_________________________________________________________________\n",
            "conv2d_2 (Conv2D)            (None, 72, 72, 64)        18496     \n",
            "_________________________________________________________________\n",
            "max_pooling2d_2 (MaxPooling2 (None, 36, 36, 64)        0         \n",
            "_________________________________________________________________\n",
            "conv2d_3 (Conv2D)            (None, 34, 34, 128)       73856     \n",
            "_________________________________________________________________\n",
            "max_pooling2d_3 (MaxPooling2 (None, 17, 17, 128)       0         \n",
            "_________________________________________________________________\n",
            "conv2d_4 (Conv2D)            (None, 15, 15, 128)       147584    \n",
            "_________________________________________________________________\n",
            "max_pooling2d_4 (MaxPooling2 (None, 7, 7, 128)         0         \n",
            "_________________________________________________________________\n",
            "flatten_1 (Flatten)          (None, 6272)              0         \n",
            "_________________________________________________________________\n",
            "dense_1 (Dense)              (None, 512)               3211776   \n",
            "_________________________________________________________________\n",
            "dense_2 (Dense)              (None, 1)                 513       \n",
            "=================================================================\n",
            "Total params: 3,453,121\n",
            "Trainable params: 3,453,121\n",
            "Non-trainable params: 0\n",
            "_________________________________________________________________\n"
          ],
          "name": "stdout"
        }
      ]
    },
    {
      "cell_type": "code",
      "metadata": {
        "id": "XCzuxS_oU_yZ",
        "colab_type": "code",
        "colab": {}
      },
      "source": [
        "# Compile Model\n",
        "from keras import optimizers\n",
        "model.compile(loss='binary_crossentropy', \n",
        "              optimizer=optimizers.RMSprop(lr=1e-4),\n",
        "              metrics=['acc'])\n"
      ],
      "execution_count": 13,
      "outputs": []
    },
    {
      "cell_type": "code",
      "metadata": {
        "id": "5BnchNOLhC63",
        "colab_type": "code",
        "colab": {
          "base_uri": "https://localhost:8080/",
          "height": 50
        },
        "outputId": "7ff8bee5-e91d-42e0-b89f-8873db9933cc"
      },
      "source": [
        "#ImageDataGenerator to feed Images to network from drive in suitable format\n",
        "# Train Model\n",
        "\n",
        "from keras.preprocessing.image import ImageDataGenerator\n",
        "\n",
        "train_datagen = ImageDataGenerator(rescale=1./255)\n",
        "test_datagen = ImageDataGenerator(rescale=1./255)\n",
        "\n",
        "train_generator = train_datagen.flow_from_directory(train_dir,\n",
        "                                                    target_size=(150, 150), \n",
        "                                                    batch_size=20,\n",
        "                                                    class_mode='binary')\n",
        "\n",
        "validation_generator = test_datagen.flow_from_directory(validation_dir,\n",
        "                                                        target_size=(150, 150),\n",
        "                                                        batch_size=20,\n",
        "                                                        class_mode='binary')"
      ],
      "execution_count": 14,
      "outputs": [
        {
          "output_type": "stream",
          "text": [
            "Found 2000 images belonging to 2 classes.\n",
            "Found 1000 images belonging to 2 classes.\n"
          ],
          "name": "stdout"
        }
      ]
    },
    {
      "cell_type": "code",
      "metadata": {
        "id": "VVYh6_Z20-wF",
        "colab_type": "code",
        "colab": {
          "base_uri": "https://localhost:8080/",
          "height": 1000
        },
        "outputId": "689f361b-f1f8-41af-84f6-45febf737d83"
      },
      "source": [
        "#Fit the model to data using generator\n",
        "\n",
        "history = model.fit_generator(train_generator,\n",
        "                              steps_per_epoch=100,\n",
        "                              epochs=30,\n",
        "                              validation_data=validation_generator,\n",
        "                              validation_steps=10)\n",
        "\n",
        "model.save('cats_dogs_small_1.h5')"
      ],
      "execution_count": 15,
      "outputs": [
        {
          "output_type": "stream",
          "text": [
            "Epoch 1/30\n",
            "100/100 [==============================] - 14s 136ms/step - loss: 0.6915 - acc: 0.5260 - val_loss: 0.6901 - val_acc: 0.4800\n",
            "Epoch 2/30\n",
            "100/100 [==============================] - 8s 78ms/step - loss: 0.6576 - acc: 0.6175 - val_loss: 0.7456 - val_acc: 0.6250\n",
            "Epoch 3/30\n",
            "100/100 [==============================] - 8s 78ms/step - loss: 0.6171 - acc: 0.6595 - val_loss: 0.5665 - val_acc: 0.7100\n",
            "Epoch 4/30\n",
            "100/100 [==============================] - 8s 79ms/step - loss: 0.5658 - acc: 0.6995 - val_loss: 0.6916 - val_acc: 0.5950\n",
            "Epoch 5/30\n",
            "100/100 [==============================] - 8s 78ms/step - loss: 0.5381 - acc: 0.7245 - val_loss: 0.5531 - val_acc: 0.6750\n",
            "Epoch 6/30\n",
            "100/100 [==============================] - 8s 79ms/step - loss: 0.5121 - acc: 0.7470 - val_loss: 0.4266 - val_acc: 0.6700\n",
            "Epoch 7/30\n",
            "100/100 [==============================] - 8s 79ms/step - loss: 0.4769 - acc: 0.7690 - val_loss: 0.4832 - val_acc: 0.6800\n",
            "Epoch 8/30\n",
            "100/100 [==============================] - 8s 79ms/step - loss: 0.4547 - acc: 0.7770 - val_loss: 0.5790 - val_acc: 0.6900\n",
            "Epoch 9/30\n",
            "100/100 [==============================] - 8s 79ms/step - loss: 0.4312 - acc: 0.7980 - val_loss: 0.2527 - val_acc: 0.7250\n",
            "Epoch 10/30\n",
            "100/100 [==============================] - 8s 76ms/step - loss: 0.4017 - acc: 0.8180 - val_loss: 0.7582 - val_acc: 0.6650\n",
            "Epoch 11/30\n",
            "100/100 [==============================] - 8s 78ms/step - loss: 0.3725 - acc: 0.8345 - val_loss: 0.5345 - val_acc: 0.7500\n",
            "Epoch 12/30\n",
            "100/100 [==============================] - 8s 76ms/step - loss: 0.3383 - acc: 0.8585 - val_loss: 0.5737 - val_acc: 0.6650\n",
            "Epoch 13/30\n",
            "100/100 [==============================] - 8s 78ms/step - loss: 0.3185 - acc: 0.8675 - val_loss: 0.5124 - val_acc: 0.7400\n",
            "Epoch 14/30\n",
            "100/100 [==============================] - 8s 77ms/step - loss: 0.2944 - acc: 0.8790 - val_loss: 0.7001 - val_acc: 0.7150\n",
            "Epoch 15/30\n",
            "100/100 [==============================] - 8s 77ms/step - loss: 0.2659 - acc: 0.8925 - val_loss: 0.3759 - val_acc: 0.7150\n",
            "Epoch 16/30\n",
            "100/100 [==============================] - 8s 77ms/step - loss: 0.2407 - acc: 0.9040 - val_loss: 0.7137 - val_acc: 0.6900\n",
            "Epoch 17/30\n",
            "100/100 [==============================] - 8s 76ms/step - loss: 0.2182 - acc: 0.9200 - val_loss: 0.9291 - val_acc: 0.6900\n",
            "Epoch 18/30\n",
            "100/100 [==============================] - 8s 77ms/step - loss: 0.1896 - acc: 0.9290 - val_loss: 1.1656 - val_acc: 0.7350\n",
            "Epoch 19/30\n",
            "100/100 [==============================] - 8s 76ms/step - loss: 0.1719 - acc: 0.9415 - val_loss: 0.6934 - val_acc: 0.7300\n",
            "Epoch 20/30\n",
            "100/100 [==============================] - 8s 76ms/step - loss: 0.1488 - acc: 0.9515 - val_loss: 0.7226 - val_acc: 0.6950\n",
            "Epoch 21/30\n",
            "100/100 [==============================] - 8s 76ms/step - loss: 0.1177 - acc: 0.9595 - val_loss: 0.9145 - val_acc: 0.7350\n",
            "Epoch 22/30\n",
            "100/100 [==============================] - 8s 76ms/step - loss: 0.1069 - acc: 0.9725 - val_loss: 0.5179 - val_acc: 0.6950\n",
            "Epoch 23/30\n",
            "100/100 [==============================] - 8s 76ms/step - loss: 0.0982 - acc: 0.9675 - val_loss: 0.6011 - val_acc: 0.7700\n",
            "Epoch 24/30\n",
            "100/100 [==============================] - 8s 76ms/step - loss: 0.0808 - acc: 0.9770 - val_loss: 1.0180 - val_acc: 0.7150\n",
            "Epoch 25/30\n",
            "100/100 [==============================] - 8s 76ms/step - loss: 0.0691 - acc: 0.9785 - val_loss: 1.2518 - val_acc: 0.6750\n",
            "Epoch 26/30\n",
            "100/100 [==============================] - 8s 76ms/step - loss: 0.0563 - acc: 0.9825 - val_loss: 1.1136 - val_acc: 0.6900\n",
            "Epoch 27/30\n",
            "100/100 [==============================] - 8s 77ms/step - loss: 0.0471 - acc: 0.9905 - val_loss: 1.4757 - val_acc: 0.7100\n",
            "Epoch 28/30\n",
            "100/100 [==============================] - 8s 75ms/step - loss: 0.0421 - acc: 0.9850 - val_loss: 0.9873 - val_acc: 0.7150\n",
            "Epoch 29/30\n",
            "100/100 [==============================] - 8s 76ms/step - loss: 0.0405 - acc: 0.9875 - val_loss: 1.4999 - val_acc: 0.7150\n",
            "Epoch 30/30\n",
            "100/100 [==============================] - 7s 75ms/step - loss: 0.0406 - acc: 0.9865 - val_loss: 1.0298 - val_acc: 0.7600\n"
          ],
          "name": "stdout"
        }
      ]
    },
    {
      "cell_type": "code",
      "metadata": {
        "id": "Zc6TO91c3BGt",
        "colab_type": "code",
        "colab": {
          "base_uri": "https://localhost:8080/",
          "height": 545
        },
        "outputId": "83a4900d-a273-42f1-f13e-d55c5066c32b"
      },
      "source": [
        "#plotting the points to check the validation and training accurancies\n",
        "\n",
        "import matplotlib.pyplot as plt\n",
        "\n",
        "acc = history.history['acc']\n",
        "val_acc = history.history['val_acc']\n",
        "loss = history.history['loss']\n",
        "val_loss = history.history['val_loss']\n",
        "\n",
        "epochs = range(1, len(acc) + 1)\n",
        "\n",
        "plt.plot(epochs,  acc, 'bo', label='Training_acc')\n",
        "plt.plot(epochs, val_acc, 'b', label='Validation_acc')\n",
        "plt.title('Training and Validation Accurancy')\n",
        "plt.legend()\n",
        "\n",
        "plt.figure()\n",
        "\n",
        "plt.plot(epochs,  loss, 'bo', label='Training_loss')\n",
        "plt.plot(epochs, val_loss, 'b', label='Validation_loss')\n",
        "plt.title('Training and Validation Loss')\n",
        "plt.legend()\n",
        "\n",
        "plt.show()\n",
        "\n"
      ],
      "execution_count": 16,
      "outputs": [
        {
          "output_type": "display_data",
          "data": {
            "image/png": "[encoded data removed]",
            "text/plain": [
              "<Figure size 432x288 with 1 Axes>"
            ]
          },
          "metadata": {
            "tags": [],
            "needs_background": "light"
          }
        },
        {
          "output_type": "display_data",
          "data": {
            "image/png": "[encoded data removed]",
            "text/plain": [
              "<Figure size 432x288 with 1 Axes>"
            ]
          },
          "metadata": {
            "tags": [],
            "needs_background": "light"
          }
        }
      ]
    },
    {
      "cell_type": "code",
      "metadata": {
        "id": "5XYgfUTa6uJO",
        "colab_type": "code",
        "colab": {
          "base_uri": "https://localhost:8080/",
          "height": 554
        },
        "outputId": "6bd9e6f8-077a-47aa-9aa4-a7a0233f89b4"
      },
      "source": [
        "#Since our validation graph and training graph is not aligned we will add dropout to fit and fit\n",
        "#Create Model\n",
        "model = models.Sequential()\n",
        "\n",
        "#Add Layers\n",
        "model.add(layers.Conv2D(32, (3,3),activation='relu',input_shape=(150,150,3)))\n",
        "model.add(layers.MaxPooling2D(2,2))\n",
        "model.add(layers.Conv2D(64, (3, 3), activation='relu'))\n",
        "model.add(layers.MaxPooling2D(2,2))\n",
        "model.add(layers.Conv2D(128, (3, 3), activation='relu'))\n",
        "model.add(layers.MaxPooling2D(2,2))\n",
        "model.add(layers.Conv2D(128, (3, 3), activation='relu'))\n",
        "model.add(layers.MaxPooling2D(2,2))\n",
        "model.add(layers.Flatten())\n",
        "model.add(layers.Dropout(0.5))\n",
        "model.add(layers.Dense(512, activation='relu'))\n",
        "model.add(layers.Dense(1, activation='sigmoid'))\n",
        "model.summary()\n",
        "\n",
        "\n"
      ],
      "execution_count": 17,
      "outputs": [
        {
          "output_type": "stream",
          "text": [
            "Model: \"sequential_2\"\n",
            "_________________________________________________________________\n",
            "Layer (type)                 Output Shape              Param #   \n",
            "=================================================================\n",
            "conv2d_5 (Conv2D)            (None, 148, 148, 32)      896       \n",
            "_________________________________________________________________\n",
            "max_pooling2d_5 (MaxPooling2 (None, 74, 74, 32)        0         \n",
            "_________________________________________________________________\n",
            "conv2d_6 (Conv2D)            (None, 72, 72, 64)        18496     \n",
            "_________________________________________________________________\n",
            "max_pooling2d_6 (MaxPooling2 (None, 36, 36, 64)        0         \n",
            "_________________________________________________________________\n",
            "conv2d_7 (Conv2D)            (None, 34, 34, 128)       73856     \n",
            "_________________________________________________________________\n",
            "max_pooling2d_7 (MaxPooling2 (None, 17, 17, 128)       0         \n",
            "_________________________________________________________________\n",
            "conv2d_8 (Conv2D)            (None, 15, 15, 128)       147584    \n",
            "_________________________________________________________________\n",
            "max_pooling2d_8 (MaxPooling2 (None, 7, 7, 128)         0         \n",
            "_________________________________________________________________\n",
            "flatten_2 (Flatten)          (None, 6272)              0         \n",
            "_________________________________________________________________\n",
            "dropout_1 (Dropout)          (None, 6272)              0         \n",
            "_________________________________________________________________\n",
            "dense_3 (Dense)              (None, 512)               3211776   \n",
            "_________________________________________________________________\n",
            "dense_4 (Dense)              (None, 1)                 513       \n",
            "=================================================================\n",
            "Total params: 3,453,121\n",
            "Trainable params: 3,453,121\n",
            "Non-trainable params: 0\n",
            "_________________________________________________________________\n"
          ],
          "name": "stdout"
        }
      ]
    },
    {
      "cell_type": "code",
      "metadata": {
        "id": "PP7lTW1h7BpM",
        "colab_type": "code",
        "colab": {
          "base_uri": "https://localhost:8080/",
          "height": 722
        },
        "outputId": "aa75d0a3-766c-4290-de67-d364ed72f32e"
      },
      "source": [
        "model.compile(loss='binary_crossentropy', \n",
        "              optimizer=optimizers.RMSprop(lr=1e-4),\n",
        "              metrics=['acc'])\n",
        "\n",
        "train_datagen = ImageDataGenerator(rescale=1./255,\n",
        "                                   rotation_range=40,\n",
        "                                   width_shift_range=0.2,\n",
        "                                   height_shift_range=0.2,\n",
        "                                   shear_range=0.2,\n",
        "                                   zoom_range=0.2,\n",
        "                                   horizontal_flip=True,)\n",
        "\n",
        "test_datagen = ImageDataGenerator(rescale=1./255)\n",
        "\n",
        "train_generator = train_datagen.flow_from_directory(train_dir,\n",
        "                                                    target_size=(150, 150),\n",
        "                                                    batch_size=32,\n",
        "                                                    class_mode='binary')\n",
        "\n",
        "validation_generator = test_datagen.flow_from_directory(validation_dir,\n",
        "                                                        target_size=(150, 150),\n",
        "                                                        batch_size=32,\n",
        "                                                        class_mode='binary')\n",
        "\n",
        "history = model.fit_generator(train_generator,\n",
        "                              steps_per_epoch=100,\n",
        "                              epochs=20,\n",
        "                              validation_data=validation_generator,\n",
        "                              validation_steps=50)"
      ],
      "execution_count": 18,
      "outputs": [
        {
          "output_type": "stream",
          "text": [
            "Found 2000 images belonging to 2 classes.\n",
            "Found 1000 images belonging to 2 classes.\n",
            "Epoch 1/20\n",
            "100/100 [==============================] - 33s 332ms/step - loss: 0.6900 - acc: 0.5275 - val_loss: 0.6711 - val_acc: 0.5082\n",
            "Epoch 2/20\n",
            "100/100 [==============================] - 30s 298ms/step - loss: 0.6751 - acc: 0.5773 - val_loss: 0.6641 - val_acc: 0.5844\n",
            "Epoch 3/20\n",
            "100/100 [==============================] - 29s 294ms/step - loss: 0.6678 - acc: 0.5843 - val_loss: 0.6353 - val_acc: 0.6301\n",
            "Epoch 4/20\n",
            "100/100 [==============================] - 30s 303ms/step - loss: 0.6433 - acc: 0.6209 - val_loss: 0.6334 - val_acc: 0.6231\n",
            "Epoch 5/20\n",
            "100/100 [==============================] - 29s 286ms/step - loss: 0.6345 - acc: 0.6360 - val_loss: 0.6722 - val_acc: 0.6491\n",
            "Epoch 6/20\n",
            "100/100 [==============================] - 31s 315ms/step - loss: 0.6212 - acc: 0.6445 - val_loss: 0.8176 - val_acc: 0.5483\n",
            "Epoch 7/20\n",
            "100/100 [==============================] - 30s 296ms/step - loss: 0.6013 - acc: 0.6732 - val_loss: 0.5092 - val_acc: 0.6669\n",
            "Epoch 8/20\n",
            "100/100 [==============================] - 30s 301ms/step - loss: 0.5911 - acc: 0.6891 - val_loss: 0.5831 - val_acc: 0.6959\n",
            "Epoch 9/20\n",
            "100/100 [==============================] - 29s 292ms/step - loss: 0.5918 - acc: 0.6781 - val_loss: 0.5283 - val_acc: 0.6643\n",
            "Epoch 10/20\n",
            "100/100 [==============================] - 29s 290ms/step - loss: 0.5888 - acc: 0.6837 - val_loss: 0.5415 - val_acc: 0.6967\n",
            "Epoch 11/20\n",
            "100/100 [==============================] - 30s 301ms/step - loss: 0.5738 - acc: 0.7019 - val_loss: 0.6485 - val_acc: 0.6991\n",
            "Epoch 12/20\n",
            "100/100 [==============================] - 29s 288ms/step - loss: 0.5758 - acc: 0.7036 - val_loss: 0.6273 - val_acc: 0.7056\n",
            "Epoch 13/20\n",
            "100/100 [==============================] - 29s 294ms/step - loss: 0.5541 - acc: 0.7186 - val_loss: 0.6076 - val_acc: 0.7126\n",
            "Epoch 14/20\n",
            "100/100 [==============================] - 29s 290ms/step - loss: 0.5556 - acc: 0.7055 - val_loss: 0.4744 - val_acc: 0.6916\n",
            "Epoch 15/20\n",
            "100/100 [==============================] - 30s 300ms/step - loss: 0.5517 - acc: 0.7191 - val_loss: 0.6556 - val_acc: 0.7126\n",
            "Epoch 16/20\n",
            "100/100 [==============================] - 29s 292ms/step - loss: 0.5487 - acc: 0.7101 - val_loss: 0.3800 - val_acc: 0.7159\n",
            "Epoch 17/20\n",
            "100/100 [==============================] - 28s 276ms/step - loss: 0.5396 - acc: 0.7279 - val_loss: 0.7098 - val_acc: 0.7246\n",
            "Epoch 18/20\n",
            "100/100 [==============================] - 32s 319ms/step - loss: 0.5393 - acc: 0.7282 - val_loss: 0.4096 - val_acc: 0.7455\n",
            "Epoch 19/20\n",
            "100/100 [==============================] - 29s 294ms/step - loss: 0.5330 - acc: 0.7286 - val_loss: 0.5185 - val_acc: 0.7430\n",
            "Epoch 20/20\n",
            "100/100 [==============================] - 29s 292ms/step - loss: 0.5233 - acc: 0.7396 - val_loss: 0.5105 - val_acc: 0.6765\n"
          ],
          "name": "stdout"
        }
      ]
    },
    {
      "cell_type": "code",
      "metadata": {
        "id": "eEjy8ZHaAI0e",
        "colab_type": "code",
        "colab": {
          "base_uri": "https://localhost:8080/",
          "height": 545
        },
        "outputId": "e4eda07f-2273-4b79-db02-60ca317fc723"
      },
      "source": [
        "\n",
        "acc = history.history['acc']\n",
        "val_acc = history.history['val_acc']\n",
        "loss = history.history['loss']\n",
        "val_loss = history.history['val_loss']\n",
        "\n",
        "epochs = range(1, len(acc) + 1)\n",
        "\n",
        "plt.plot(epochs,  acc, 'bo', label='Training_acc')\n",
        "plt.plot(epochs, val_acc, 'b', label='Validation_acc')\n",
        "plt.title('Training and Validation Accurancy')\n",
        "plt.legend()\n",
        "\n",
        "plt.figure()\n",
        "\n",
        "plt.plot(epochs,  loss, 'bo', label='Training_loss')\n",
        "plt.plot(epochs, val_loss, 'b', label='Validation_loss')\n",
        "plt.title('Training and Validation Loss')\n",
        "plt.legend()\n",
        "\n",
        "plt.show()"
      ],
      "execution_count": 19,
      "outputs": [
        {
          "output_type": "display_data",
          "data": {
            "image/png": "[encoded data removed]",
            "text/plain": [
              "<Figure size 432x288 with 1 Axes>"
            ]
          },
          "metadata": {
            "tags": [],
            "needs_background": "light"
          }
        },
        {
          "output_type": "display_data",
          "data": {
            "image/png": "[encoded data removed]",
            "text/plain": [
              "<Figure size 432x288 with 1 Axes>"
            ]
          },
          "metadata": {
            "tags": [],
            "needs_background": "light"
          }
        }
      ]
    }
  ]
}